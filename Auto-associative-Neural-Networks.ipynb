{
 "cells": [
  {
   "cell_type": "code",
   "execution_count": 1,
   "id": "d5cadbf6",
   "metadata": {},
   "outputs": [],
   "source": [
    "import numpy as np\n",
    "import matplotlib.pyplot as plt"
   ]
  },
  {
   "cell_type": "code",
   "execution_count": 2,
   "id": "bcb447b2",
   "metadata": {},
   "outputs": [
    {
     "data": {
      "text/plain": [
       "<matplotlib.image.AxesImage at 0x7fa77216ea00>"
      ]
     },
     "execution_count": 2,
     "metadata": {},
     "output_type": "execute_result"
    },
    {
     "data": {
      "image/png": "[encoded data removed]",
      "text/plain": [
       "<Figure size 640x480 with 3 Axes>"
      ]
     },
     "metadata": {},
     "output_type": "display_data"
    }
   ],
   "source": [
    "A = np.array([\n",
    "    \n",
    "   [0,0,0,0,0],\n",
    "   [0,0,1,0,0],\n",
    "   [0,1,1,1,0],\n",
    "   [0,1,0,1,0],\n",
    "   [0,1,0,1,0],\n",
    "   [0,1,0,1,0],\n",
    "   [0,1,1,1,0],\n",
    "   [0,1,1,1,0],\n",
    "   [0,1,0,1,0],\n",
    "   [0,1,0,1,0]\n",
    "   ])\n",
    "\n",
    "B = np.array([\n",
    "\n",
    "   [0,0,0,0,0],\n",
    "   [0,0,0,0,0],\n",
    "   [0,0,0,0,0],\n",
    "   [0,0,1,1,0],\n",
    "   [0,0,1,0,1],\n",
    "   [0,0,1,0,1],\n",
    "   [0,0,1,1,0],\n",
    "   [0,0,1,0,1],\n",
    "   [0,0,1,0,1],\n",
    "   [0,0,1,1,0]\n",
    "   ])\n",
    "\n",
    "C=np.array([\n",
    "    \n",
    "   [1,1,1,1,1],\n",
    "   [1,0,0,0,1],\n",
    "   [1,0,0,0,1],\n",
    "   [1,0,0,0,1],\n",
    "   [1,0,0,0,0],\n",
    "   [1,0,0,0,0],\n",
    "   [1,0,0,0,1],\n",
    "   [1,0,0,0,1],\n",
    "   [1,0,0,0,1],\n",
    "   [1,1,1,1,1]\n",
    "   ])\n",
    "\n",
    "C_noise=np.array([\n",
    "    \n",
    "   [0,0,1,0,1],\n",
    "   [1,1,0,1,1],\n",
    "   [1,0,0,1,1],\n",
    "   [1,0,1,0,1],\n",
    "   [0,0,0,0,0],\n",
    "   [1,0,0,0,0],\n",
    "   [0,0,0,0,1],\n",
    "   [1,0,1,0,1],\n",
    "   [1,1,0,1,0],\n",
    "   [1,0,1,0,0]\n",
    "   ])\n",
    "\n",
    "\n",
    "figure, axis= plt.subplots(1,3) \n",
    "axis[0].imshow(A, cmap=\"gray\")\n",
    "axis[1].imshow(B, cmap=\"gray\")\n",
    "axis[2].imshow(C, cmap=\"gray\")"
   ]
  },
  {
   "cell_type": "code",
   "execution_count": null,
   "id": "34e01197",
   "metadata": {},
   "outputs": [],
   "source": [
    "a = A.reshape((1,50))\n",
    "b = B.reshape((1,50))\n",
    "c = C.reshape((1,50))\n",
    "C_noise = C_noise.reshape((1,50))\n",
    "\n",
    "\n",
    "a = a / np.linalg.norm(a)\n",
    "b = b / np.linalg.norm(b)\n",
    "c = c / np.linalg.norm(c)\n",
    "C_noise = C_noise / np.linalg.norm(C_noise)"
   ]
  },
  {
   "cell_type": "code",
   "execution_count": 3,
   "id": "ad083632",
   "metadata": {},
   "outputs": [],
   "source": [
    "def set_weights():\n",
    "    W = np.zeros((50,50))\n",
    "    return W"
   ]
  },
  {
   "cell_type": "code",
   "execution_count": 4,
   "id": "d8dc6808",
   "metadata": {},
   "outputs": [],
   "source": [
    "def calculate_output(inp, W):\n",
    "    y = np.dot(inp,W.T)\n",
    "    return y"
   ]
  },
  {
   "cell_type": "code",
   "execution_count": 5,
   "id": "31e378e3",
   "metadata": {},
   "outputs": [],
   "source": [
    "def update_wieghts(W,inp,y):\n",
    "    delta_W = np.dot(inp.T,y)\n",
    "    W = W + delta_W\n",
    "    return W"
   ]
  },
  {
   "cell_type": "code",
   "execution_count": 6,
   "id": "8a07794d",
   "metadata": {},
   "outputs": [],
   "source": [
    "weights = set_weights()\n",
    "weights = update_wieghts(weights,a,a)\n",
    "weights = update_wieghts(weights,b,b)\n",
    "weights = update_wieghts(weights,c,c)"
   ]
  },
  {
   "cell_type": "code",
   "execution_count": 7,
   "id": "1fd54f40",
   "metadata": {},
   "outputs": [],
   "source": [
    "w_max = weights.max()\n",
    "w_min = weights.min()\n",
    "\n",
    "weights = ((weights)-(w_min))/(w_max - w_min)"
   ]
  },
  {
   "cell_type": "code",
   "execution_count": 8,
   "id": "d1f62418",
   "metadata": {},
   "outputs": [],
   "source": [
    "out_a = calculate_output(a,weights).reshape((10,5))\n",
    "out_b = calculate_output(b,weights).reshape((10,5))\n",
    "out_c = calculate_output(c,weights).reshape((10,5))\n",
    "out_C_noise = calculate_output(C_noise,weights).reshape((10,5))"
   ]
  },
  {
   "cell_type": "code",
   "execution_count": 9,
   "id": "a0bfa211",
   "metadata": {},
   "outputs": [],
   "source": [
    "def square_error_loss(y_true, y_pred):\n",
    "    return (y_true - y_pred) ** 2"
   ]
  },
  {
   "cell_type": "code",
   "execution_count": 10,
   "id": "3c9522ad",
   "metadata": {},
   "outputs": [],
   "source": [
    "def mean_square_error(y_true, y_pred):\n",
    "    return np.sum(square_error_loss(y_true, y_pred)) / (y_true.shape[0]*y_true.shape[1])"
   ]
  },
  {
   "cell_type": "code",
   "execution_count": 11,
   "id": "d68b0a50",
   "metadata": {},
   "outputs": [
    {
     "name": "stdout",
     "output_type": "stream",
     "text": [
      "MSE for A:0.04193702615941536\n",
      "MSE for B:0.02906574394463667\n",
      "MSE for C:0.04336273780422999\n",
      "MSE for C with noise:0.10825363674899967\n"
     ]
    }
   ],
   "source": [
    "print('MSE for A:'+str(mean_square_error(A,out_a/out_a.max())))\n",
    "print('MSE for B:'+str(mean_square_error(B,out_b/out_b.max())))\n",
    "print('MSE for C:'+str(mean_square_error(C,out_c/out_c.max())))\n",
    "print('MSE for C with noise:'+str(mean_square_error(C,out_C_noise/out_C_noise.max())))"
   ]
  },
  {
   "cell_type": "code",
   "execution_count": 12,
   "id": "e48b5822",
   "metadata": {},
   "outputs": [
    {
     "data": {
      "text/plain": [
       "([<matplotlib.axis.XTick at 0x7fa77262dd90>,\n",
       "  <matplotlib.axis.XTick at 0x7fa77262dd60>,\n",
       "  <matplotlib.axis.XTick at 0x7fa77262dc40>,\n",
       "  <matplotlib.axis.XTick at 0x7fa772670640>,\n",
       "  <matplotlib.axis.XTick at 0x7fa772670d90>],\n",
       " [Text(0, 0, ''),\n",
       "  Text(0, 0, ''),\n",
       "  Text(0, 0, ''),\n",
       "  Text(0, 0, ''),\n",
       "  Text(0, 0, '')])"
      ]
     },
     "execution_count": 12,
     "metadata": {},
     "output_type": "execute_result"
    },
    {
     "data": {
      "image/png": "[encoded data removed]",
      "text/plain": [
       "<Figure size 640x480 with 1 Axes>"
      ]
     },
     "metadata": {},
     "output_type": "display_data"
    }
   ],
   "source": [
    "plt.imshow(out_a, \n",
    "           interpolation='nearest',\n",
    "           cmap = 'gray'              \n",
    "          )\n",
    "plt.yticks(range(10))\n",
    "plt.xticks(range(5))"
   ]
  },
  {
   "cell_type": "code",
   "execution_count": 13,
   "id": "0a81fa4c",
   "metadata": {},
   "outputs": [
    {
     "data": {
      "text/plain": [
       "([<matplotlib.axis.XTick at 0x7fa77269fa00>,\n",
       "  <matplotlib.axis.XTick at 0x7fa77269f6d0>,\n",
       "  <matplotlib.axis.XTick at 0x7fa77269f9a0>,\n",
       "  <matplotlib.axis.XTick at 0x7fa7727af6d0>,\n",
       "  <matplotlib.axis.XTick at 0x7fa7727afe20>],\n",
       " [Text(0, 0, ''),\n",
       "  Text(0, 0, ''),\n",
       "  Text(0, 0, ''),\n",
       "  Text(0, 0, ''),\n",
       "  Text(0, 0, '')])"
      ]
     },
     "execution_count": 13,
     "metadata": {},
     "output_type": "execute_result"
    },
    {
     "data": {
      "image/png": "[encoded data removed]",
      "text/plain": [
       "<Figure size 640x480 with 1 Axes>"
      ]
     },
     "metadata": {},
     "output_type": "display_data"
    }
   ],
   "source": [
    "plt.imshow(out_b,    \n",
    "           interpolation='nearest',\n",
    "           cmap = 'gray',             \n",
    "          )\n",
    "plt.yticks(range(10))\n",
    "plt.xticks(range(5))\n"
   ]
  },
  {
   "cell_type": "code",
   "execution_count": 14,
   "id": "b88b1f17",
   "metadata": {},
   "outputs": [
    {
     "data": {
      "text/plain": [
       "([<matplotlib.axis.XTick at 0x7fa7727cdbe0>,\n",
       "  <matplotlib.axis.XTick at 0x7fa7727cdbb0>,\n",
       "  <matplotlib.axis.XTick at 0x7fa7727a2fa0>,\n",
       "  <matplotlib.axis.XTick at 0x7fa7730bf940>,\n",
       "  <matplotlib.axis.XTick at 0x7fa7730c20a0>],\n",
       " [Text(0, 0, ''),\n",
       "  Text(0, 0, ''),\n",
       "  Text(0, 0, ''),\n",
       "  Text(0, 0, ''),\n",
       "  Text(0, 0, '')])"
      ]
     },
     "execution_count": 14,
     "metadata": {},
     "output_type": "execute_result"
    },
    {
     "data": {
      "image/png": "[encoded data removed]",
      "text/plain": [
       "<Figure size 640x480 with 1 Axes>"
      ]
     },
     "metadata": {},
     "output_type": "display_data"
    }
   ],
   "source": [
    "plt.imshow(out_c,    \n",
    "           interpolation='nearest',\n",
    "           cmap = 'gray',             \n",
    "          )\n",
    "plt.yticks(range(10))\n",
    "plt.xticks(range(5))"
   ]
  },
  {
   "cell_type": "code",
   "execution_count": 15,
   "id": "4f7e6bac",
   "metadata": {},
   "outputs": [
    {
     "data": {
      "text/plain": [
       "([<matplotlib.axis.XTick at 0x7fa7731654f0>,\n",
       "  <matplotlib.axis.XTick at 0x7fa773165970>,\n",
       "  <matplotlib.axis.XTick at 0x7fa7730b5490>,\n",
       "  <matplotlib.axis.XTick at 0x7fa7731ac580>,\n",
       "  <matplotlib.axis.XTick at 0x7fa7731accd0>],\n",
       " [Text(0, 0, ''),\n",
       "  Text(0, 0, ''),\n",
       "  Text(0, 0, ''),\n",
       "  Text(0, 0, ''),\n",
       "  Text(0, 0, '')])"
      ]
     },
     "execution_count": 15,
     "metadata": {},
     "output_type": "execute_result"
    },
    {
     "data": {
      "image/png": "[encoded data removed]",
      "text/plain": [
       "<Figure size 640x480 with 1 Axes>"
      ]
     },
     "metadata": {},
     "output_type": "display_data"
    }
   ],
   "source": [
    "plt.imshow(out_C_noise,    \n",
    "           interpolation='nearest',\n",
    "           cmap = 'gray',             \n",
    "          )\n",
    "plt.yticks(range(10))\n",
    "plt.xticks(range(5))"
   ]
  }
 ],
 "metadata": {
  "kernelspec": {
   "display_name": "Python 3 (ipykernel)",
   "language": "python",
   "name": "python3"
  },
  "language_info": {
   "codemirror_mode": {
    "name": "ipython",
    "version": 3
   },
   "file_extension": ".py",
   "mimetype": "text/x-python",
   "name": "python",
   "nbconvert_exporter": "python",
   "pygments_lexer": "ipython3",
   "version": "3.9.13"
  }
 },
 "nbformat": 4,
 "nbformat_minor": 5
}
